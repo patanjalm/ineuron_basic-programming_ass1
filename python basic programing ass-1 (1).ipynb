{
 "cells": [
  {
   "cell_type": "markdown",
   "metadata": {},
   "source": [
    "1.\tWrite a Python program to print \"Hello Python\"?"
   ]
  },
  {
   "cell_type": "code",
   "execution_count": 13,
   "metadata": {},
   "outputs": [
    {
     "name": "stdout",
     "output_type": "stream",
     "text": [
      "Hello Python\n"
     ]
    }
   ],
   "source": [
    "a=\"Hello Python\"\n",
    "print(a)"
   ]
  },
  {
   "cell_type": "markdown",
   "metadata": {},
   "source": [
    "2.\tWrite a Python program to do arithmetical operations addition and division.?"
   ]
  },
  {
   "cell_type": "code",
   "execution_count": 14,
   "metadata": {},
   "outputs": [
    {
     "name": "stdout",
     "output_type": "stream",
     "text": [
      "Enter first no. 10\n",
      "Enter second no. 20\n",
      "Addition  30\n",
      "Division  0.5\n"
     ]
    }
   ],
   "source": [
    "a=int(input(\"Enter first no. \"))\n",
    "b=int(input(\"Enter second no. \"))\n",
    "# Addition\n",
    "print(\"Addition \",a+b)\n",
    "#Division\n",
    "print(\"Division \",a/b)"
   ]
  },
  {
   "cell_type": "markdown",
   "metadata": {},
   "source": [
    "3.\tWrite a Python program to find the area of a triangle?"
   ]
  },
  {
   "cell_type": "code",
   "execution_count": 15,
   "metadata": {},
   "outputs": [
    {
     "name": "stdout",
     "output_type": "stream",
     "text": [
      "Enter first side of traiangle20\n",
      "Enter second side of traiangle56\n",
      "Enter third side of traiangle23\n",
      "Area_of_traiangle  (3.070959428046706e-14+501.52573463382714j)\n"
     ]
    }
   ],
   "source": [
    "a = eval(input(\"Enter first side of traiangle\"))\n",
    "b= eval(input(\"Enter second side of traiangle\"))\n",
    "c= eval(input(\"Enter third side of traiangle\"))\n",
    "s = (a+b+c)/2\n",
    "if a+b ==c or b+c==a or c+a==b:\n",
    "    print(\"Enter valid value\")\n",
    "else:\n",
    "    Area_of_traiangle = (s*(s-a)*(s-b)*(s-c)) ** 0.5\n",
    "    print(\"Area_of_traiangle \",Area_of_traiangle)"
   ]
  },
  {
   "cell_type": "markdown",
   "metadata": {},
   "source": [
    "4.\tWrite a Python program to swap two variables?"
   ]
  },
  {
   "cell_type": "code",
   "execution_count": 16,
   "metadata": {},
   "outputs": [],
   "source": [
    "a=10\n",
    "b=20\n",
    "b,a=a,b"
   ]
  },
  {
   "cell_type": "code",
   "execution_count": 17,
   "metadata": {},
   "outputs": [
    {
     "data": {
      "text/plain": [
       "20"
      ]
     },
     "execution_count": 17,
     "metadata": {},
     "output_type": "execute_result"
    }
   ],
   "source": [
    "a"
   ]
  },
  {
   "cell_type": "code",
   "execution_count": 18,
   "metadata": {},
   "outputs": [
    {
     "data": {
      "text/plain": [
       "10"
      ]
     },
     "execution_count": 18,
     "metadata": {},
     "output_type": "execute_result"
    }
   ],
   "source": [
    "b"
   ]
  },
  {
   "cell_type": "markdown",
   "metadata": {},
   "source": [
    "5.\tWrite a Python program to generate a random number?"
   ]
  },
  {
   "cell_type": "code",
   "execution_count": 19,
   "metadata": {},
   "outputs": [
    {
     "name": "stdout",
     "output_type": "stream",
     "text": [
      "Enter your starting number choice10\n",
      "Enter you last number choice 20\n",
      "Random number between starting and last number choice 11\n"
     ]
    }
   ],
   "source": [
    "import random\n",
    "while True:\n",
    "    try:\n",
    "        a= int(input(\"Enter your starting number choice\"))\n",
    "        b= int(input(\"Enter you last number choice \"))\n",
    "        n = random.randint(a,b)\n",
    "        print(\"Random number between starting and last number choice\",n)\n",
    "        break\n",
    "    except Exception as e:\n",
    "        print(\"Enter right choice number\",e)\n",
    "        "
   ]
  },
  {
   "cell_type": "code",
   "execution_count": null,
   "metadata": {},
   "outputs": [],
   "source": []
  }
 ],
 "metadata": {
  "kernelspec": {
   "display_name": "Python 3",
   "language": "python",
   "name": "python3"
  },
  "language_info": {
   "codemirror_mode": {
    "name": "ipython",
    "version": 3
   },
   "file_extension": ".py",
   "mimetype": "text/x-python",
   "name": "python",
   "nbconvert_exporter": "python",
   "pygments_lexer": "ipython3",
   "version": "3.8.5"
  },
  "toc": {
   "base_numbering": 1,
   "nav_menu": {},
   "number_sections": true,
   "sideBar": true,
   "skip_h1_title": false,
   "title_cell": "Table of Contents",
   "title_sidebar": "Contents",
   "toc_cell": false,
   "toc_position": {},
   "toc_section_display": true,
   "toc_window_display": false
  }
 },
 "nbformat": 4,
 "nbformat_minor": 4
}
